{
    "cells": [
        {
            "cell_type": "markdown",
            "metadata": {},
            "source": "# This is a test notebook\nBelow you will find the mentor application data"
        },
        {
            "cell_type": "code",
            "execution_count": 1,
            "metadata": {},
            "outputs": [
                {
                    "data": {
                        "text/html": "<div>\n<style scoped>\n    .dataframe tbody tr th:only-of-type {\n        vertical-align: middle;\n    }\n\n    .dataframe tbody tr th {\n        vertical-align: top;\n    }\n\n    .dataframe thead th {\n        text-align: right;\n    }\n</style>\n<table border=\"1\" class=\"dataframe\">\n  <thead>\n    <tr style=\"text-align: right;\">\n      <th></th>\n      <th>id</th>\n      <th>username</th>\n      <th>email</th>\n      <th>is_active</th>\n      <th>date_joined</th>\n      <th>profile__bio</th>\n      <th>profile__full_name</th>\n      <th>profile__profile_pic</th>\n      <th>profile__hangout_email</th>\n      <th>profile__profile_pic_crop</th>\n      <th>...</th>\n      <th>short_course_capacity</th>\n      <th>foundations_capacity</th>\n      <th>uxa_capacity</th>\n      <th>cs_capacity</th>\n      <th>overall_capacity</th>\n      <th>short_course_capacity_limit</th>\n      <th>foundations_capacity_limit</th>\n      <th>uxa_capacity_limit</th>\n      <th>cs_capacity_limit</th>\n      <th>mentor_onboarding_complete</th>\n    </tr>\n  </thead>\n  <tbody>\n    <tr>\n      <th>0</th>\n      <td>16522</td>\n      <td>ElenaW</td>\n      <td>ecconsultancy.ltd@gmail.com</td>\n      <td>1</td>\n      <td>2021-03-25 11:12:39</td>\n      <td>UX designer and digital anthropologist with 10...</td>\n      <td>Elena Walton</td>\n      <td>profile_pics/cropped-ec-logo2x.png</td>\n      <td>ecconsultancy.ltd@gmail.com</td>\n      <td>481,481,17,8</td>\n      <td>...</td>\n      <td>0</td>\n      <td>1</td>\n      <td>2</td>\n      <td>0</td>\n      <td>3</td>\n      <td>5</td>\n      <td>5</td>\n      <td>5</td>\n      <td>4</td>\n      <td>True</td>\n    </tr>\n    <tr>\n      <th>1</th>\n      <td>16509</td>\n      <td>Hebah</td>\n      <td>hebahabdelqader@gmail.com</td>\n      <td>1</td>\n      <td>2021-03-23 20:01:23</td>\n      <td>Hebah specializes in building complex web appl...</td>\n      <td>Hebah Abdelqader</td>\n      <td>profile_pics/002424370016.jpg</td>\n      <td>NaN</td>\n      <td>963,963,291,60</td>\n      <td>...</td>\n      <td>0</td>\n      <td>0</td>\n      <td>1</td>\n      <td>2</td>\n      <td>3</td>\n      <td>5</td>\n      <td>5</td>\n      <td>5</td>\n      <td>2</td>\n      <td>True</td>\n    </tr>\n    <tr>\n      <th>2</th>\n      <td>16439</td>\n      <td>Cantuni</td>\n      <td>rubens.cantuni@gmail.com</td>\n      <td>1</td>\n      <td>2021-03-16 12:11:25</td>\n      <td>14+ years experience on a wide variety of digi...</td>\n      <td>Rubens Cantuni</td>\n      <td>profile_pics/T024BF2PG-U019H38D47L-012ea0db16b...</td>\n      <td>rubens.cantuni@gmail.com</td>\n      <td>512,512,0,0</td>\n      <td>...</td>\n      <td>0</td>\n      <td>2</td>\n      <td>1</td>\n      <td>1</td>\n      <td>4</td>\n      <td>4</td>\n      <td>5</td>\n      <td>5</td>\n      <td>4</td>\n      <td>True</td>\n    </tr>\n    <tr>\n      <th>3</th>\n      <td>16431</td>\n      <td>BrianMila</td>\n      <td>brian.mila@gmail.com</td>\n      <td>1</td>\n      <td>2021-03-15 16:00:55</td>\n      <td>I'm a Design Lead at Lextech.  I've been desig...</td>\n      <td>Brian Mila</td>\n      <td>profile_pics/me_CwpSQR0.png</td>\n      <td>brian.mila@gmail.com</td>\n      <td>175,175,0,0</td>\n      <td>...</td>\n      <td>0</td>\n      <td>2</td>\n      <td>0</td>\n      <td>0</td>\n      <td>2</td>\n      <td>5</td>\n      <td>5</td>\n      <td>5</td>\n      <td>4</td>\n      <td>False</td>\n    </tr>\n    <tr>\n      <th>4</th>\n      <td>16425</td>\n      <td>Malu</td>\n      <td>romeromalu415@gmail.com</td>\n      <td>1</td>\n      <td>2021-03-14 23:38:54</td>\n      <td>Peruvian UX/UI Designer working on projects th...</td>\n      <td>Malu Romero</td>\n      <td>profile_pics/IMG_20200918_122511.jpg</td>\n      <td>romeromalu415@gmail.com</td>\n      <td>576,576,48,323</td>\n      <td>...</td>\n      <td>0</td>\n      <td>0</td>\n      <td>2</td>\n      <td>0</td>\n      <td>2</td>\n      <td>5</td>\n      <td>5</td>\n      <td>5</td>\n      <td>2</td>\n      <td>True</td>\n    </tr>\n  </tbody>\n</table>\n<p>5 rows \u00d7 60 columns</p>\n</div>",
                        "text/plain": "      id   username                        email  is_active  \\\n0  16522     ElenaW  ecconsultancy.ltd@gmail.com          1   \n1  16509      Hebah    hebahabdelqader@gmail.com          1   \n2  16439    Cantuni     rubens.cantuni@gmail.com          1   \n3  16431  BrianMila         brian.mila@gmail.com          1   \n4  16425       Malu      romeromalu415@gmail.com          1   \n\n           date_joined                                       profile__bio  \\\n0  2021-03-25 11:12:39  UX designer and digital anthropologist with 10...   \n1  2021-03-23 20:01:23  Hebah specializes in building complex web appl...   \n2  2021-03-16 12:11:25  14+ years experience on a wide variety of digi...   \n3  2021-03-15 16:00:55  I'm a Design Lead at Lextech.  I've been desig...   \n4  2021-03-14 23:38:54  Peruvian UX/UI Designer working on projects th...   \n\n  profile__full_name                               profile__profile_pic  \\\n0       Elena Walton                 profile_pics/cropped-ec-logo2x.png   \n1   Hebah Abdelqader                      profile_pics/002424370016.jpg   \n2     Rubens Cantuni  profile_pics/T024BF2PG-U019H38D47L-012ea0db16b...   \n3         Brian Mila                        profile_pics/me_CwpSQR0.png   \n4        Malu Romero               profile_pics/IMG_20200918_122511.jpg   \n\n        profile__hangout_email profile__profile_pic_crop  ...  \\\n0  ecconsultancy.ltd@gmail.com              481,481,17,8  ...   \n1                          NaN            963,963,291,60  ...   \n2     rubens.cantuni@gmail.com               512,512,0,0  ...   \n3         brian.mila@gmail.com               175,175,0,0  ...   \n4      romeromalu415@gmail.com            576,576,48,323  ...   \n\n  short_course_capacity foundations_capacity uxa_capacity cs_capacity  \\\n0                     0                    1            2           0   \n1                     0                    0            1           2   \n2                     0                    2            1           1   \n3                     0                    2            0           0   \n4                     0                    0            2           0   \n\n  overall_capacity  short_course_capacity_limit  foundations_capacity_limit  \\\n0                3                            5                           5   \n1                3                            5                           5   \n2                4                            4                           5   \n3                2                            5                           5   \n4                2                            5                           5   \n\n   uxa_capacity_limit  cs_capacity_limit mentor_onboarding_complete  \n0                   5                  4                       True  \n1                   5                  2                       True  \n2                   5                  4                       True  \n3                   5                  4                      False  \n4                   5                  2                       True  \n\n[5 rows x 60 columns]"
                    },
                    "execution_count": 1,
                    "metadata": {},
                    "output_type": "execute_result"
                }
            ],
            "source": "# The code was removed by Watson Studio for sharing."
        },
        {
            "cell_type": "code",
            "execution_count": null,
            "metadata": {},
            "outputs": [],
            "source": ""
        }
    ],
    "metadata": {
        "kernelspec": {
            "display_name": "Python 3.7",
            "language": "python",
            "name": "python3"
        },
        "language_info": {
            "codemirror_mode": {
                "name": "ipython",
                "version": 3
            },
            "file_extension": ".py",
            "mimetype": "text/x-python",
            "name": "python",
            "nbconvert_exporter": "python",
            "pygments_lexer": "ipython3",
            "version": "3.7.10"
        }
    },
    "nbformat": 4,
    "nbformat_minor": 1
}